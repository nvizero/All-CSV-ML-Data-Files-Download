{
  "nbformat": 4,
  "nbformat_minor": 0,
  "metadata": {
    "colab": {
      "provenance": [],
      "include_colab_link": true
    },
    "kernelspec": {
      "name": "python3",
      "display_name": "Python 3"
    },
    "language_info": {
      "name": "python"
    }
  },
  "cells": [
    {
      "cell_type": "markdown",
      "metadata": {
        "id": "view-in-github",
        "colab_type": "text"
      },
      "source": [
        "<a href=\"https://colab.research.google.com/github/nvizero/All-CSV-ML-Data-Files-Download/blob/master/102_ihower_LLM_workshop_prompt_guideline.ipynb\" target=\"_parent\"><img src=\"https://colab.research.google.com/assets/colab-badge.svg\" alt=\"Open In Colab\"/></a>"
      ]
    },
    {
      "cell_type": "code",
      "execution_count": null,
      "metadata": {
        "id": "Lu4Pc8_Qj_Zz",
        "colab": {
          "base_uri": "https://localhost:8080/"
        },
        "outputId": "d66e78d4-e577-4a98-eb70-86b85cd867d5"
      },
      "outputs": [
        {
          "name": "stdout",
          "output_type": "stream",
          "text": [
            "請輸入你的 OpenAI API Key: ··········\n"
          ]
        }
      ],
      "source": [
        "# 輸入 openai key\n",
        "from getpass import getpass\n",
        "openai_api_key = getpass('請輸入你的 OpenAI API Key: ')"
      ]
    },
    {
      "cell_type": "code",
      "source": [
        "import requests\n",
        "import json\n",
        "from pprint import pp"
      ],
      "metadata": {
        "id": "crH1DCYmkJAs"
      },
      "execution_count": null,
      "outputs": []
    },
    {
      "cell_type": "code",
      "source": [
        "def get_completion(messages, model=\"gpt-3.5-turbo\", temperature=0, max_tokens=1000):\n",
        "  payload = { \"model\": model, \"temperature\": temperature, \"messages\": messages, \"max_tokens\": max_tokens }\n",
        "  headers = { \"Authorization\": f'Bearer {openai_api_key}', \"Content-Type\": \"application/json\" }\n",
        "  response = requests.post('https://api.openai.com/v1/chat/completions', headers = headers, data = json.dumps(payload) )\n",
        "  obj = json.loads(response.text)\n",
        "  if response.status_code == 200 :\n",
        "    return obj[\"choices\"][0][\"message\"][\"content\"]\n",
        "  else :\n",
        "    return obj[\"error\"]"
      ],
      "metadata": {
        "id": "EdgS7HEGFtzu"
      },
      "execution_count": null,
      "outputs": []
    },
    {
      "cell_type": "markdown",
      "source": [
        "## 前面三段要先執行，下面就可以跳著做了"
      ],
      "metadata": {
        "id": "XV4rMimnfkFF"
      }
    },
    {
      "cell_type": "markdown",
      "source": [
        "以下範例參考自:\n",
        "\n",
        "* https://www.deeplearning.ai/short-courses/chatgpt-prompt-engineering-for-developers/\n",
        "* https://platform.openai.com/docs/guides/gpt-best-practices/"
      ],
      "metadata": {
        "id": "15RpP0tMLYC0"
      }
    },
    {
      "cell_type": "markdown",
      "source": [
        "## 寫清楚的指示"
      ],
      "metadata": {
        "id": "J0eA4dRM4fkB"
      }
    },
    {
      "cell_type": "code",
      "source": [
        "# bad\n",
        "print(\"[Bad example] \" + \"---\"*20)\n",
        "user_message = \"我該如何在Excel中添加數字？\"\n",
        "response = get_completion([{ \"role\": \"user\", \"content\": user_message }], temperature=0)\n",
        "print(response)\n",
        "\n",
        "# good\n",
        "print(\"[Good example] \" + \"---\"*20)\n",
        "user_message = \"我該如何在Excel中將一列美元金額相加？我想要自動對整個工作表中的每一列進行此操作，並將所有總和顯示在名為“總計”的行的右側。\"\n",
        "response = get_completion([{ \"role\": \"user\", \"content\": user_message }], temperature=0)\n",
        "print(response)"
      ],
      "metadata": {
        "colab": {
          "base_uri": "https://localhost:8080/"
        },
        "id": "R2Jiju0NFxWZ",
        "outputId": "7e3ad747-fcc6-48e7-d70a-a8ab929dd712"
      },
      "execution_count": null,
      "outputs": [
        {
          "output_type": "stream",
          "name": "stdout",
          "text": [
            "[Bad example] ------------------------------------------------------------\n",
            "在Excel中添加數字，可以按照以下步驟進行：\n",
            "\n",
            "1. 開啟Excel軟體，建立一個新的工作表或選擇現有的工作表。\n",
            "2. 在你想要添加數字的儲存格中點擊一下，該儲存格會被選中。\n",
            "3. 在選中的儲存格中輸入你想要添加的數字。你可以直接在儲存格中鍵入數字，或者在公式列中輸入數字。\n",
            "4. 按下Enter鍵，數字將被添加到選中的儲存格中。\n",
            "5. 如果你想要在其他儲存格中添加相同的數字，可以使用複製和粘貼功能。選中已經包含數字的儲存格，按下Ctrl+C複製，然後選中其他儲存格，按下Ctrl+V粘貼。\n",
            "\n",
            "這些步驟可以幫助你在Excel中添加數字。希望對你有所幫助！\n",
            "[Good example] ------------------------------------------------------------\n",
            "您可以使用SUM函数来将一列美元金额相加。在名为“总计”的行的右侧，您可以使用SUM函数来对整个工作表中的每一列进行相加操作。\n",
            "\n",
            "以下是具体步骤：\n",
            "\n",
            "1. 在“总计”行的右侧，选择一个单元格，例如B1。\n",
            "2. 输入以下公式：=SUM(列的范围)，例如=SUM(A:A)。这将对A列中的所有单元格进行相加操作。\n",
            "3. 按下Enter键，即可得到该列的总和。\n",
            "4. 将B1单元格中的公式复制到“总计”行的其他单元格中，以便对其他列进行相加操作。\n",
            "\n",
            "这样，您就可以在名为“总计”的行的右侧看到每一列的总和了。\n"
          ]
        }
      ]
    },
    {
      "cell_type": "code",
      "source": [
        "# bad\n",
        "print(\"[Bad example] \" + \"---\"*20)\n",
        "user_message = \"總統是誰？\"\n",
        "response = get_completion([{ \"role\": \"user\", \"content\": user_message }], temperature=0)\n",
        "print(response)\n",
        "\n",
        "# good\n",
        "print(\"[Good example] \" + \"---\"*20)\n",
        "user_message = \"2021年墨西哥的總統是誰，選舉頻率是多久一次?\"\n",
        "response = get_completion([{ \"role\": \"user\", \"content\": user_message }], temperature=0)\n",
        "\n",
        "print(response)"
      ],
      "metadata": {
        "colab": {
          "base_uri": "https://localhost:8080/"
        },
        "id": "0oX_8yZTGWRT",
        "outputId": "cd4988bb-e722-4ce2-b974-8b927883d96a"
      },
      "execution_count": null,
      "outputs": [
        {
          "output_type": "stream",
          "name": "stdout",
          "text": [
            "[Bad example] ------------------------------------------------------------\n",
            "我不知道您指的是哪個國家的總統，請問您是指哪個國家的總統？\n",
            "[Good example] ------------------------------------------------------------\n",
            "2021年墨西哥的总统是安德烈斯·曼努埃尔·洛佩斯·奥夫拉多尔（Andrés Manuel López Obrador）。墨西哥的总统选举频率是每六年一次。\n"
          ]
        }
      ]
    },
    {
      "cell_type": "code",
      "source": [
        "# bad\n",
        "print(\"[Bad example] \" + \"---\"*20)\n",
        "user_message = \"寫個程式計算費氏數列\"\n",
        "response = get_completion([{ \"role\": \"user\", \"content\": user_message }], temperature=0)\n",
        "print(response)\n",
        "\n",
        "# good\n",
        "print(\"[Good example] \" + \"---\"*20)\n",
        "user_message = \"撰寫一個 Ruby 函式，有效率地計算費氏數列。並在程式中有充分註釋，以解釋每個部分的作用以及為什麼以這種方式編寫。\"\n",
        "response = get_completion([{ \"role\": \"user\", \"content\": user_message }], temperature=0)\n",
        "print(response)"
      ],
      "metadata": {
        "colab": {
          "base_uri": "https://localhost:8080/"
        },
        "id": "tg-QHroJGg-Z",
        "outputId": "06c3a90d-c4cd-4df1-cef0-b01b8c33df18"
      },
      "execution_count": null,
      "outputs": [
        {
          "output_type": "stream",
          "name": "stdout",
          "text": [
            "[Bad example] ------------------------------------------------------------\n",
            "以下是一個計算費氏數列的程式：\n",
            "\n",
            "```python\n",
            "def fibonacci(n):\n",
            "    if n <= 0:\n",
            "        return \"請輸入正整數\"\n",
            "    elif n == 1:\n",
            "        return 0\n",
            "    elif n == 2:\n",
            "        return 1\n",
            "    else:\n",
            "        fib_list = [0, 1]\n",
            "        for i in range(2, n):\n",
            "            fib_list.append(fib_list[i-1] + fib_list[i-2])\n",
            "        return fib_list\n",
            "\n",
            "n = int(input(\"請輸入要計算的費氏數列項數：\"))\n",
            "fibonacci_sequence = fibonacci(n)\n",
            "print(fibonacci_sequence)\n",
            "```\n",
            "\n",
            "這個程式中，我們定義了一個名為`fibonacci`的函式，該函式接受一個正整數`n`作為參數，並返回一個包含前`n`項費氏數列的列表。\n",
            "\n",
            "在`fibonacci`函式中，我們首先處理特殊情況，即`n`小於等於0、等於1或等於2的情況。對於這些情況，我們直接返回對應的費氏數列項。\n",
            "\n",
            "對於`n`大於2的情況，我們創建一個空列表`fib_list`，並將前兩項費氏數列（0和1）添加到該列表中。然後，我們使用一個迴圈從第3項開始計算費氏數列的每一項，並將其添加到`fib_list`中。最後，我們返回`fib_list`。\n",
            "\n",
            "在主程式中，我們首先請用戶輸入要計算的費氏數列項數`n`，然後調用`fibonacci`函式計算費氏數列，並將結果打印出來。\n",
            "[Good example] ------------------------------------------------------------\n",
            "以下是一個有效率地計算費氏數列的 Ruby 函式：\n",
            "\n",
            "```ruby\n",
            "def fibonacci(n)\n",
            "  fib = [0, 1] # 初始化費氏數列的前兩個數字\n",
            "  (2..n).each do |i| # 從第三個數字開始計算\n",
            "    fib[i] = fib[i-1] + fib[i-2] # 計算費氏數列的第 i 個數字\n",
            "  end\n",
            "  return fib[n] # 返回第 n 個費氏數字\n",
            "end\n",
            "```\n",
            "\n",
            "這個函式使用了迭代的方式計算費氏數列，而不是遞迴。這樣做的原因是遞迴的方式在計算大數字時效率較低，因為它需要重複計算相同的子問題。而迭代的方式則可以避免這個問題，通過保存已計算的中間結果，只需要計算一次。\n",
            "\n",
            "在這個函式中，我們使用一個陣列 `fib` 來保存費氏數列的前 n 個數字。我們首先初始化 `fib` 為 `[0, 1]`，這是費氏數列的前兩個數字。然後，我們使用一個迴圈從第三個數字開始計算，直到第 n 個數字。在每次迴圈中，我們使用 `fib[i-1]` 和 `fib[i-2]` 的值來計算 `fib[i]`，並將結果保存在 `fib` 中。最後，我們返回 `fib[n]`，即第 n 個費氏數字。\n",
            "\n",
            "這種方式的好處是，我們只需要計算一次每個數字，並且可以通過索引直接訪問已計算的數字，而不需要重複計算。這樣可以大大提高計算效率，特別是在計算大數字時。\n"
          ]
        }
      ]
    },
    {
      "cell_type": "code",
      "source": [
        "data = \"\"\"\n",
        "會議日期：2023年6月2日\n",
        "會議主題：新竹市跨年晚會 策劃討論\n",
        "\n",
        "與會者： A - 主持人, B - 活動策劃師, C - 場地負責人\n",
        "\n",
        "A：B，你有什麼跨年晚會的想法？\n",
        "B：主題是\"星光璀璨夜\"，邀請當紅明星，網上票選歌曲，煙火表演。\n",
        "A：C，場地方面有建議嗎？\n",
        "C：市中心大公園，提供美食攤位和遊戲區，增加宣傳利用社交媒體，合作影響者，官方網站提供詳情和購票信息。\n",
        "A：感謝建議，期待成功的跨年晚會！\n",
        "\"\"\"\n",
        "\n",
        "# bad\n",
        "print(\"[Bad example] \" + \"---\"*20)\n",
        "user_message = f\"總結會議記錄: \\n {data}\"\n",
        "response = get_completion([{ \"role\": \"user\", \"content\": user_message }], temperature=0.2)\n",
        "print(response)\n",
        "\n",
        "# good\n",
        "print(\"[Good example] \" + \"---\"*20)\n",
        "\n",
        "# 🐍 Python 的字串，若用 \"\"\" 則可以多行\n",
        "user_message = f\"\"\"請將以下會議記錄總結成一個段落。然後條列一個清單，\n",
        "列出每位演講者及其要點。最後，如果有的話，列出每一位建議的下一步行動項目。\\n\n",
        "```{data}```\n",
        "\"\"\"\n",
        "\n",
        "response = get_completion([{ \"role\": \"user\", \"content\": user_message }], temperature=0.2)\n",
        "print(response)"
      ],
      "metadata": {
        "colab": {
          "base_uri": "https://localhost:8080/"
        },
        "id": "m5RFg3p-G8oT",
        "outputId": "88fffa55-0c08-4679-9c7e-98e14f3e3d32"
      },
      "execution_count": null,
      "outputs": [
        {
          "output_type": "stream",
          "name": "stdout",
          "text": [
            "[Bad example] ------------------------------------------------------------\n",
            "總結會議記錄如下：\n",
            "\n",
            "1. 跨年晚會主題為\"星光璀璨夜\"，計劃邀請當紅明星參與演出。\n",
            "2. 討論了網上票選歌曲和煙火表演的安排。\n",
            "3. 建議在市中心大公園舉辦活動，並提供美食攤位和遊戲區。\n",
            "4. 提出利用社交媒體和合作影響者來宣傳活動。\n",
            "5. 官方網站將提供詳細的活動資訊和購票信息。\n",
            "\n",
            "會議主持人對建議表示感謝，並期待成功的跨年晚會。\n",
            "[Good example] ------------------------------------------------------------\n",
            "在2023年6月2日的會議上，討論了新竹市跨年晚會的策劃事宜。主持人A問活動策劃師B有什麼想法，B提出了主題為\"星光璀璨夜\"的想法，包括邀請當紅明星、網上票選歌曲和煙火表演。場地負責人C建議在市中心大公園舉辦，提供美食攤位和遊戲區，並增加宣傳利用社交媒體，合作影響者，官方網站提供詳情和購票信息。主持人A感謝了這些建議，並期待成功的跨年晚會。\n",
            "\n",
            "演講者及其要點：\n",
            "- A（主持人）：主持會議，詢問B和C的意見，感謝建議，期待成功的跨年晚會。\n",
            "- B（活動策劃師）：提出主題為\"星光璀璨夜\"的想法，包括邀請當紅明星、網上票選歌曲和煙火表演。\n",
            "- C（場地負責人）：建議在市中心大公園舉辦，提供美食攤位和遊戲區，並增加宣傳利用社交媒體，合作影響者，官方網站提供詳情和購票信息。\n",
            "\n",
            "建議的下一步行動項目：\n",
            "- 確定\"星光璀璨夜\"為主題，開始邀請當紅明星。\n",
            "- 設立網上票選歌曲的平台。\n",
            "- 聯繫市中心大公園，確定場地可行性。\n",
            "- 設計美食攤位和遊戲區的佈局。\n",
            "- 制定宣傳計劃，包括利用社交媒體和合作影響者。\n",
            "- 建立官方網站，提供詳情和購票信息。\n"
          ]
        }
      ]
    },
    {
      "cell_type": "markdown",
      "source": [
        "## 設定 Persona\n",
        "\n",
        "可以在 system prompt 中定義一個角色，讓AI回覆能更像該角色的能力和風格\n",
        "\n",
        "不過，注意角色能力不宜太過誇張，例如智商300，這樣可能就變成科幻了。你想想模型訓練資料會有智商300的資料嗎? 可能只會出現在科幻小說。\n",
        "\n",
        "更多風格語氣角色舉例:\n",
        "\n",
        "1. https://www.canva.com/design/DAFuwYc3O4Y/jmlmiNAv5LV_0nrwAcVQ-g/view#27 簡光正 Prompt 之道 p.27\n",
        "\n",
        "2. https://docsend.com/view/i4xn7n2ezqrb5bj2 李幕約 商用詠唱 進階 p.93~113\n"
      ],
      "metadata": {
        "id": "vtsEMgHV4jkO"
      }
    },
    {
      "cell_type": "code",
      "source": [
        "system_promot = \"你是一個專業又有創意的秘書，當我要求寫文案時，你會回覆其中每個段落至少包含一個笑話或俏皮評論。\"\n",
        "user_prompt = \"給我的原料供應商寫一封感謝信，感謝他們在短時間內及時交貨，使我們能夠交付一份重要的訂單。\"\n",
        "\n",
        "messages = [\n",
        "  { \"role\": \"system\", \"content\": system_promot },\n",
        "  { \"role\": \"user\", \"content\": user_prompt }\n",
        "]\n",
        "\n",
        "response = get_completion(messages, temperature=0.5)\n",
        "print(response)"
      ],
      "metadata": {
        "colab": {
          "base_uri": "https://localhost:8080/"
        },
        "id": "xA5aKILAJJJs",
        "outputId": "ec2b630f-374c-4b59-c341-75153c0705af"
      },
      "execution_count": null,
      "outputs": [
        {
          "output_type": "stream",
          "name": "stdout",
          "text": [
            "親愛的原料供應商，\n",
            "\n",
            "我們想要向您表達我們最衷心的感謝，感謝您在這個關鍵時刻給予我們的支持。您的快速反應和及時交貨，確保我們能夠按時交付這份重要的訂單。您真是我們的救星！\n",
            "\n",
            "您的供應速度簡直比超人還快！我們在訂單截止日前只剩下幾個小時，但您仍然能夠如此迅速地將原料送到我們的門口。這真是令人驚訝！如果供應鏈界有一個奧斯卡獎，我們絕對會提名您為最佳快遞人員！\n",
            "\n",
            "您不僅僅是一個優秀的供應商，您還是一個超級英雄！我們真的很感激您對我們公司的支持和合作。您的專業和效率使我們能夠在市場上保持競爭力。我們希望能夠繼續與您合作，並在未來共同創造更多的商機。\n",
            "\n",
            "再次感謝您為我們所做的一切！我們真的很幸運能夠與您合作。希望您有一個充滿笑聲和快樂的一天！\n",
            "\n",
            "衷心感謝，\n",
            "\n",
            "您的專業秘書\n"
          ]
        }
      ]
    },
    {
      "cell_type": "markdown",
      "source": [
        "## 把步驟寫出來\n",
        "\n",
        "較複雜的任務，可以把步驟寫出來，這樣模型可以更好遵循\n",
        "\n",
        "越厲害的模型例如 gpt-4 越能遵守你的指示"
      ],
      "metadata": {
        "id": "IAXxWSs74yIf"
      }
    },
    {
      "cell_type": "code",
      "source": [
        "system_promot = \"\"\"\n",
        "請按照以下步驟來回應使用者的輸入:\n",
        "\n",
        "步驟1: 用戶會用三個引號 ``` 包裹文案，請以\"Summary: \"為開頭，摘要這個文案成一個句子。\n",
        "步驟2: 請將步驟1的摘要結果，翻譯成英文，並在前面加上 \"Translation：\"\n",
        "\"\"\"\n",
        "user_prompt = f\"請處理這段文字 ```{data}```\"\n",
        "\n",
        "messages = [\n",
        "  { \"role\": \"system\", \"content\": system_promot },\n",
        "  { \"role\": \"user\", \"content\": user_prompt }\n",
        "]\n",
        "\n",
        "response = get_completion(messages, temperature=0.5)\n",
        "print(response)"
      ],
      "metadata": {
        "colab": {
          "base_uri": "https://localhost:8080/"
        },
        "id": "hSrrvZesKEhj",
        "outputId": "21eade18-c792-417c-fbc6-a404a6ed9b89"
      },
      "execution_count": null,
      "outputs": [
        {
          "output_type": "stream",
          "name": "stdout",
          "text": [
            "Summary: 主持人和活動策劃師討論了新竹市跨年晚會的想法，包括主題、邀請明星和煙火表演，以及場地方面的建議。\n",
            "\n",
            "Translation: The host and event planner discussed ideas for the New Year's Eve party in Hsinchu City, including the theme, inviting popular celebrities, and fireworks display. They also received suggestions for the venue, which would be a central park with food booths and game areas. They planned to promote the event through social media, collaboration with influencers, and providing detailed information and ticket purchasing on the official website. The host expressed gratitude for the suggestions and looked forward to a successful New Year's Eve party.\n"
          ]
        }
      ]
    },
    {
      "cell_type": "markdown",
      "source": [
        "## 給範例 (few-shot example)\n",
        "\n",
        "few-shot 的 example 要盡量有多樣性(diversity)"
      ],
      "metadata": {
        "id": "RGJl5MN-LPmc"
      }
    },
    {
      "cell_type": "code",
      "source": [
        "# 出處: https://www.promptingguide.ai/zh/techniques/fewshot\n",
        "prompt = f\"\"\"\n",
        "請判斷情緒:\n",
        "\n",
        "這太棒了！ // Positive\n",
        "這太糟糕了！ // Negative\n",
        "哇，那部電影太棒了！ // Positive\n",
        "多麼可怕的節目！//\n",
        "\"\"\"\n",
        "\n",
        "response = get_completion([{ \"role\": \"user\", \"content\": prompt }], temperature=0.2)\n",
        "print(response)"
      ],
      "metadata": {
        "colab": {
          "base_uri": "https://localhost:8080/"
        },
        "id": "2h5e5pmHMbm0",
        "outputId": "88bc6308-6650-448e-a0f3-a1c19388c3e9"
      },
      "execution_count": null,
      "outputs": [
        {
          "output_type": "stream",
          "name": "stdout",
          "text": [
            "Negative\n"
          ]
        }
      ]
    },
    {
      "cell_type": "markdown",
      "source": [
        "\n",
        "在一些較難描述明確指示的任務中，蠻適合用 few-shot 的方式讓模型自己學，例如文字風格、特定的輸出結構(某種schema)"
      ],
      "metadata": {
        "id": "dXkNHEFmMc1S"
      }
    },
    {
      "cell_type": "code",
      "source": [
        "# 沒給範例\n",
        "prompt = f\"\"\"\n",
        "晶晶體是一種流行於臺灣以中文為基底，夾雜英語不成句的單字或片語的表達方式。特指所使用的英文字多為過於簡單、沒有替換必要者，進而產生有意炫耀雙語能力卻弄巧成拙的效果。\n",
        "例如:\n",
        "\n",
        "原文: 每位員工都要參加每週電話會議，沒有例外\n",
        "晶晶體:\n",
        "\"\"\"\n",
        "\n",
        "response = get_completion([{ \"role\": \"user\", \"content\": prompt }], temperature=0.2)\n",
        "print(response)"
      ],
      "metadata": {
        "colab": {
          "base_uri": "https://localhost:8080/"
        },
        "id": "AilQWajmyGOg",
        "outputId": "65b3b712-2816-41e7-bb46-f1a5d5c51545"
      },
      "execution_count": null,
      "outputs": [
        {
          "output_type": "stream",
          "name": "stdout",
          "text": [
            "每位員工都要參加每週電話會議，no exception\n"
          ]
        }
      ]
    },
    {
      "cell_type": "code",
      "source": [
        "# 給範例讓模型學風格，可以學得更好\n",
        "prompt = f\"\"\"\n",
        "晶晶體是一種流行於臺灣以中文為基底，夾雜英語不成句的單字或片語的表達方式。特指所使用的英文字多為過於簡單、沒有替換必要者，進而產生有意炫耀雙語能力卻弄巧成拙的效果。\n",
        "例如:\n",
        "\n",
        "原文: 我很忙，因為我很有事要做\n",
        "晶晶體: 我是很busy，因為我很多things要do\n",
        "\n",
        "原文: 天氣總算放晴，沒有下雨、太陽很大、有點熱、讓我想到以前還是學生時，喜歡在這樣的天氣，吃一球冰淇淋，真的會讓人很高興\n",
        "晶晶體: 天氣總算放晴，沒有rain、太陽很big、有點hot、讓我想到以前還是student時，喜歡在這樣的天氣，吃一球ice cream，真的會讓人很happy\n",
        "\n",
        "原文: 每位員工都要參加每週電話會議，沒有例外\n",
        "晶晶體:\n",
        "\"\"\"\n",
        "\n",
        "response = get_completion([{ \"role\": \"user\", \"content\": prompt }], temperature=0.2)\n",
        "print(response)"
      ],
      "metadata": {
        "colab": {
          "base_uri": "https://localhost:8080/"
        },
        "id": "IppdLtSExcC0",
        "outputId": "7bdf9eb6-3508-4d60-c661-6681a786549c"
      },
      "execution_count": null,
      "outputs": [
        {
          "output_type": "stream",
          "name": "stdout",
          "text": [
            "每位staff都要join每週phone meeting，沒有exception\n"
          ]
        }
      ]
    },
    {
      "cell_type": "markdown",
      "source": [
        "也可以用 messages 對話形式來呈現 examples"
      ],
      "metadata": {
        "id": "eA9moC2UzBQA"
      }
    },
    {
      "cell_type": "code",
      "source": [
        "messages = [\n",
        "  { \"role\": \"system\", \"content\": \"請用一致的風格回答\"},\n",
        "  { \"role\": \"user\", \"content\": \"教我耐心\" },\n",
        "  { \"role\": \"assistant\", \"content\": \"刻出最深谷的河流源自一個謙虛的泉源；最宏偉的交響樂從一個音符開始；最複雜的織品始於一根孤單的線。\" },\n",
        "  { \"role\": \"user\", \"content\": \"教我勇氣\" }\n",
        "]\n",
        "\n",
        "response = get_completion(messages, temperature=0.5, model = \"gpt-4\") # gpt-4 的表現比較好\n",
        "print(response)"
      ],
      "metadata": {
        "id": "dL4TsVbOLe0O",
        "colab": {
          "base_uri": "https://localhost:8080/"
        },
        "outputId": "062ca9e8-58f5-4dc9-9863-2fc4b11349d4"
      },
      "execution_count": null,
      "outputs": [
        {
          "output_type": "stream",
          "name": "stdout",
          "text": [
            "勇氣並不是沒有恐懼，而是在恐懼面前依然選擇前進。就像獅子面對風暴，就像船長面對洶湧的海浪。在你的心中點燃一簇火焰，讓它照亮你的道路，驅散你的恐懼。\n"
          ]
        }
      ]
    },
    {
      "cell_type": "markdown",
      "source": [
        "## 指定輸出長度和格式\n",
        "\n",
        "雖然 AI 回覆的長度不一定會準確"
      ],
      "metadata": {
        "id": "FLSUIu1F44Lz"
      }
    },
    {
      "cell_type": "code",
      "source": [
        "prompt = f\"\"\"\n",
        "將以下三個引號 ``` 所包含的文字總結成約50個字。\n",
        "```{data}```\n",
        "\"\"\"\n",
        "\n",
        "response = get_completion([{ \"role\": \"user\", \"content\": prompt }], temperature=0.2)\n",
        "print(response)"
      ],
      "metadata": {
        "colab": {
          "base_uri": "https://localhost:8080/"
        },
        "id": "1lrH2pDUNXq8",
        "outputId": "aca2c3ff-1a3a-4865-9d4a-69cfd7861c0c"
      },
      "execution_count": null,
      "outputs": [
        {
          "output_type": "stream",
          "name": "stdout",
          "text": [
            "2023年6月2日，新竹市舉行會議討論跨年晚會策劃，主題為\"星光璀璨夜\"，邀請當紅明星，網上票選歌曲，煙火表演。場地選在市中心大公園，提供美食攤位和遊戲區，並利用社交媒體和影響者合作宣傳。\n"
          ]
        }
      ]
    },
    {
      "cell_type": "code",
      "source": [
        "prompt = f\"\"\"\n",
        "將以下三個引號 ``` 所包含的文字總結兩個段落文字。\n",
        "```{data}```\n",
        "\"\"\"\n",
        "\n",
        "response = get_completion([{ \"role\": \"user\", \"content\": prompt }], temperature=0.2, model=\"gpt-4\")\n",
        "print(response)"
      ],
      "metadata": {
        "colab": {
          "base_uri": "https://localhost:8080/"
        },
        "id": "BnXywK2_NsZG",
        "outputId": "9d59e65b-4630-4ab4-b548-d5111d653070"
      },
      "execution_count": null,
      "outputs": [
        {
          "output_type": "stream",
          "name": "stdout",
          "text": [
            "在2023年6月2日的新竹市跨年晚會策劃討論會議中，活動策劃師B提出了\"星光璀璨夜\"的主題概念，包括邀請當紅明星演出、進行網上票選歌曲，以及安排煙火表演等活動。他認為這樣的設計可以吸引更多的民眾參與。\n",
            "\n",
            "場地負責人C則建議在市中心大公園舉辦活動，並提供美食攤位和遊戲區以增加活動的多元性。他也提議增加宣傳，例如利用社交媒體，合作影響者等方式來提高活動的知名度。此外，他也建議在官方網站上提供活動詳情和購票信息，以方便民眾了解和參與。主持人A對兩位的建議表示感謝，並期待能舉辦一場成功的跨年晚會。\n"
          ]
        }
      ]
    },
    {
      "cell_type": "code",
      "source": [
        "prompt = f\"\"\"\n",
        "將以下三個引號 ``` 所包含的文字總結成 bullet points:\n",
        "```{data}```\n",
        "\"\"\"\n",
        "\n",
        "response = get_completion([{ \"role\": \"user\", \"content\": prompt }], temperature=0.2, model=\"gpt-4\")\n",
        "print(response)"
      ],
      "metadata": {
        "colab": {
          "base_uri": "https://localhost:8080/"
        },
        "id": "INhGlBdhNw-o",
        "outputId": "5775c22a-4a40-42b6-af95-747c95b0e8a2"
      },
      "execution_count": null,
      "outputs": [
        {
          "output_type": "stream",
          "name": "stdout",
          "text": [
            "- 會議日期：2023年6月2日\n",
            "- 會議主題：新竹市跨年晚會 策劃討論\n",
            "- 與會者： A - 主持人, B - 活動策劃師, C - 場地負責人\n",
            "- B的提議：主題是\"星光璀璨夜\"，邀請當紅明星，網上票選歌曲，煙火表演。\n",
            "- C的建議：場地選擇市中心大公園，提供美食攤位和遊戲區，增加宣傳利用社交媒體，合作影響者，官方網站提供詳情和購票信息。\n",
            "- A的回應：感謝B和C的建議，期待成功的跨年晚會！\n"
          ]
        }
      ]
    },
    {
      "cell_type": "code",
      "source": [
        "prompt = f\"\"\"\n",
        "將以下三個引號 ``` 的會議紀錄，轉成 JSON 格式，其中日期的 key 用 date, 主題的 key 用 subject，與會者的發言的 key 用 conversations，裡面是個 array:\n",
        "```{data}```\n",
        "\"\"\"\n",
        "\n",
        "response = get_completion([{ \"role\": \"user\", \"content\": prompt }], temperature=0.2, model=\"gpt-4\")\n",
        "print(response)"
      ],
      "metadata": {
        "colab": {
          "base_uri": "https://localhost:8080/"
        },
        "id": "_FEbT9gvOKoQ",
        "outputId": "344f57da-1bdd-48a4-de5a-ed6e3c3fc16b"
      },
      "execution_count": null,
      "outputs": [
        {
          "output_type": "stream",
          "name": "stdout",
          "text": [
            "{\n",
            "  \"date\": \"2023年6月2日\",\n",
            "  \"subject\": \"新竹市跨年晚會 策劃討論\",\n",
            "  \"conversations\": [\n",
            "    {\n",
            "      \"A\": \"B，你有什麼跨年晚會的想法？\"\n",
            "    },\n",
            "    {\n",
            "      \"B\": \"主題是\\\"星光璀璨夜\\\"，邀請當紅明星，網上票選歌曲，煙火表演。\"\n",
            "    },\n",
            "    {\n",
            "      \"A\": \"C，場地方面有建議嗎？\"\n",
            "    },\n",
            "    {\n",
            "      \"C\": \"市中心大公園，提供美食攤位和遊戲區，增加宣傳利用社交媒體，合作影響者，官方網站提供詳情和購票信息。\"\n",
            "    },\n",
            "    {\n",
            "      \"A\": \"感謝建議，期待成功的跨年晚會！\"\n",
            "    }\n",
            "  ]\n",
            "}\n"
          ]
        }
      ]
    },
    {
      "cell_type": "markdown",
      "source": [
        "加上範例可以更準:"
      ],
      "metadata": {
        "id": "D297U_2UP6kk"
      }
    },
    {
      "cell_type": "code",
      "source": [
        "prompt = f\"\"\"\n",
        "將以下三個引號 ``` 的會議紀錄，轉成 JSON 格式，其中日期的 key 用 date, 主題的 key 用 subject，與會者的發言的 key 用 conversation，裡面是個 array:\n",
        "例如:\n",
        "\n",
        "{{\n",
        "  \"date\": \"2023-01-01\",\n",
        " \"subject\": \"這是主題\",\n",
        " \"conversations\": [\n",
        "    \"A: xxxxx\",\n",
        "    \"B: yyyyy\",\n",
        "    \"C: zzzzzz\"\n",
        " ]\n",
        "}}\n",
        "\n",
        "以下是會議紀錄:\n",
        "```{data}```\n",
        "\"\"\"\n",
        "\n",
        "response = get_completion([{ \"role\": \"user\", \"content\": prompt }], temperature=0.2, model=\"gpt-4\")\n",
        "print(response)"
      ],
      "metadata": {
        "colab": {
          "base_uri": "https://localhost:8080/"
        },
        "id": "d8-qNxiNPW0O",
        "outputId": "a129bb85-4276-4891-a197-3e66ba60b2f8"
      },
      "execution_count": null,
      "outputs": [
        {
          "output_type": "stream",
          "name": "stdout",
          "text": [
            "{\n",
            "  \"date\": \"2023-06-02\",\n",
            "  \"subject\": \"新竹市跨年晚會 策劃討論\",\n",
            "  \"conversations\": [\n",
            "    \"A：B，你有什麼跨年晚會的想法？\",\n",
            "    \"B：主題是\\\"星光璀璨夜\\\"，邀請當紅明星，網上票選歌曲，煙火表演。\",\n",
            "    \"A：C，場地方面有建議嗎？\",\n",
            "    \"C：市中心大公園，提供美食攤位和遊戲區，增加宣傳利用社交媒體，合作影響者，官方網站提供詳情和購票信息。\",\n",
            "    \"A：感謝建議，期待成功的跨年晚會！\"\n",
            "  ]\n",
            "}\n"
          ]
        }
      ]
    },
    {
      "cell_type": "markdown",
      "source": [
        "## Summarizing 摘要\n",
        "\n",
        "可以進一步寫是要給誰看的摘要或是重點等"
      ],
      "metadata": {
        "id": "NEFHpBbfK6Eh"
      }
    },
    {
      "cell_type": "code",
      "source": [
        "text = \"\"\"商品描述:\n",
        "\n",
        "從零開始！快速上手！網羅完整Vue.js功能的實戰指南\n",
        "|Vue.js基礎入門|Vue.js元件系統|Vue單一元件檔與Vue CLI|Vue開發生態圈|Vue Router與前端路由管理|Vuex與共用狀態管理|Vue Composition API|\n",
        "\n",
        "Vue.js不斷地成長，從早期只被定位在JavaScript的UI工具庫，到如今已經是個成熟且功能強大的漸進式框架。Vue.js 3底層核心由TypeScript所改寫，不僅效能更快、檔案更小，更重要是仍然可以使用我們所熟悉的JavaScript來進行開發。它的特性是短時間內可以快速上手，並且擁有豐富的開發生態環境系統以及蓬勃發展的社群。\n",
        "\n",
        "作者將多年來在Vue.js的開發與教學心得記錄下來，除了比較Vue.js 2與新推出Vue.js 3版本的差異之外，也希望有助於讀者在學習、體驗Vue.js這套前端框架的時候，能夠少走許多岔路，領略現代前端開發的世界。\n",
        "\n",
        "【本書精彩內容】\n",
        "◎從零開始介紹Vue.js的起源、基礎知識、指令、事件與生命週期等核心內容，帶領讀者快速入門。\n",
        "◎元件系統是Vue.js的另一大核心特性，說明為什麼要使用元件、有什麼好處，以及說明元件系統開發時會遇到的問題。\n",
        "◎介紹Vue的開發生態圈，並結合CLI/Webpack等相關工具，來為Vue.js從無到有進行專案建置、最佳化、打包部署等功能。\n",
        "◎作為Vue.js開發生態圈的一環，Vue Router提供開發者透過前端路由來建立單頁式應用程式(SPA)的可能性。\n",
        "◎Vue.js元件的狀態各自為政，當專案規模日漸擴大的時候，共用狀態與資料管理就顯得十分重要。\n",
        "◎Composition API是Vue.js 3起新增的重要特性之一，說明最新的Composition API是什麼、如何使用、它解決了什麼問題？為什麼要使用它？以及在實際開發時，使用Composition API需要注意的各種細節。\n",
        "作者簡介:\n",
        "許國政（Kuro Hsu）\n",
        "Vue.js Taiwan社群主辦人，超過十年的前端開發經驗，長期專注網頁前端標準技術。曾擔任JSDC、WebConf、MOPCON、COSCUP等大型研討會講者，也多次參與前端技術社群分享心得。\n",
        "出版日期: 2021-02-09\n",
        "定價: $600\n",
        "售價: 7.8 折 $468\n",
        "\"\"\""
      ],
      "metadata": {
        "id": "dCovKXsxK8VA"
      },
      "execution_count": null,
      "outputs": []
    },
    {
      "cell_type": "markdown",
      "source": [
        "💡💡 若 prompt 是英文，但想要輸出是中文\n",
        "前面可以加上 (zh-tw) 就有效果"
      ],
      "metadata": {
        "id": "OS4lo7kYeqKh"
      }
    },
    {
      "cell_type": "code",
      "source": [
        "prompt = f\"\"\"\n",
        "(zh-tw) Your task is to generate a short summary of a book\n",
        "description from an ecommerce site.\n",
        "\n",
        "Summarize the description below, delimited by triple\n",
        "backticks, in at most 100 words.\n",
        "\n",
        "Description: ```{text}```\n",
        "\"\"\"\n",
        "\n",
        "response = get_completion([{ \"role\": \"user\", \"content\": prompt }], temperature=0.2)\n",
        "summary = response\n",
        "print(response)"
      ],
      "metadata": {
        "colab": {
          "base_uri": "https://localhost:8080/"
        },
        "id": "JWpcCp8wRN4v",
        "outputId": "014d772b-454a-4659-d015-147f4582e1ca"
      },
      "execution_count": null,
      "outputs": [
        {
          "output_type": "stream",
          "name": "stdout",
          "text": [
            "這本書是一本實戰指南，涵蓋了完整的Vue.js功能。從Vue.js的基礎入門到元件系統、Vue CLI、Vue開發生態圈、Vue Router、Vuex和Vue Composition API等方面進行了詳細介紹。作者是Vue.js Taiwan社群的主辦人，擁有超過十年的前端開發經驗。這本書旨在幫助讀者快速上手Vue.js，避免走許多岔路，領略現代前端開發的世界。\n"
          ]
        }
      ]
    },
    {
      "cell_type": "markdown",
      "source": [
        "可強調摘要不同重點："
      ],
      "metadata": {
        "id": "N7ranOtqpyZm"
      }
    },
    {
      "cell_type": "code",
      "source": [
        "prompt = f\"\"\"\n",
        "(zh-tw) Your task is to generate a short summary of a book\n",
        "description from an ecommerce site.\n",
        "\n",
        "Summarize the description below, delimited by triple\n",
        "backticks, in at most 100 words. 請特別強調作者和書籍價錢。\n",
        "\n",
        "Description: ```{text}```\n",
        "\"\"\"\n",
        "\n",
        "response = get_completion([{ \"role\": \"user\", \"content\": prompt }], temperature=0.2)\n",
        "print(response)\n"
      ],
      "metadata": {
        "colab": {
          "base_uri": "https://localhost:8080/"
        },
        "id": "kVi5J2crRdfr",
        "outputId": "eca6ab3f-e738-423f-abc4-498ad2a7110a"
      },
      "execution_count": null,
      "outputs": [
        {
          "output_type": "stream",
          "name": "stdout",
          "text": [
            "這本書是一本關於Vue.js的實戰指南，作者是許國政（Kuro Hsu）。書中介紹了Vue.js的基礎知識、元件系統、開發生態圈、Vue Router、Vuex和Composition API等主題。這本書旨在幫助讀者快速上手Vue.js並避免走許多岔路，領略現代前端開發的世界。這本書於2021年2月9日出版，定價為600元，售價為468元。\n"
          ]
        }
      ]
    },
    {
      "cell_type": "markdown",
      "source": [
        "## Inferring 推理\n",
        "\n",
        "各種分析工作，例如:\n",
        "* 判斷客戶情緒 Sentiment (positive/negative)\n",
        "* 推導文本主題 subject\n",
        "* 擷取出 metadata，將非結構的文字資料，變成結構化的資料\n",
        "\n"
      ],
      "metadata": {
        "id": "fnnK2vm8K81v"
      }
    },
    {
      "cell_type": "code",
      "source": [
        "prompt = f\"\"\"\n",
        "根據以下書籍內容，進行書籍分類，請細分是哪一種技術分類。\n",
        "請用 JSON 回覆，key 用 category\n",
        "\n",
        "text: ```{text}```\n",
        "\"\"\"\n",
        "response = get_completion([{ \"role\": \"user\", \"content\": prompt }], temperature=0.2)\n",
        "print(response)"
      ],
      "metadata": {
        "colab": {
          "base_uri": "https://localhost:8080/"
        },
        "id": "eNr9uO04UR_M",
        "outputId": "8dc936d2-5c10-4ac3-e170-8e50a9b360ec"
      },
      "execution_count": null,
      "outputs": [
        {
          "output_type": "stream",
          "name": "stdout",
          "text": [
            "{\n",
            "  \"category\": \"前端開發\"\n",
            "}\n"
          ]
        }
      ]
    },
    {
      "cell_type": "code",
      "source": [
        "prompt = f\"\"\"\n",
        "從以下書籍內容中，擷取出以下資訊\n",
        "\n",
        "- 作者\n",
        "- 出版日期\n",
        "- 售價\n",
        "\n",
        "請用 JSON 回覆，key 分別用 author, date, price\n",
        "\n",
        "text: ```{text}```\n",
        "\"\"\"\n",
        "response = get_completion([{ \"role\": \"user\", \"content\": prompt }], temperature=0.2)\n",
        "print(response)"
      ],
      "metadata": {
        "id": "qi-mp_IwLA2A",
        "colab": {
          "base_uri": "https://localhost:8080/"
        },
        "outputId": "4868fc45-aab0-4496-ba12-c99ba9075653"
      },
      "execution_count": null,
      "outputs": [
        {
          "output_type": "stream",
          "name": "stdout",
          "text": [
            "{\n",
            "  \"author\": \"許國政（Kuro Hsu）\",\n",
            "  \"date\": \"2021-02-09\",\n",
            "  \"price\": \"$468\"\n",
            "}\n"
          ]
        }
      ]
    },
    {
      "cell_type": "markdown",
      "source": [
        "## Transforming 文本轉換\n",
        "\n",
        "LLM 很擅長將輸入input的內容，轉換成另一種格式format，例如語言翻譯、拼寫和語法修正、校正。"
      ],
      "metadata": {
        "id": "3IzofJNjLF_j"
      }
    },
    {
      "cell_type": "code",
      "source": [
        "prompt = f\"\"\"\n",
        "請將以下文字翻譯成英文:\n",
        "text: ```{summary}```\n",
        "\"\"\"\n",
        "response = get_completion([{ \"role\": \"user\", \"content\": prompt }], temperature=0.2)\n",
        "print(response)"
      ],
      "metadata": {
        "id": "UCADeAA4LHpQ",
        "colab": {
          "base_uri": "https://localhost:8080/"
        },
        "outputId": "21152f51-fc56-4594-f2f2-dd954007b4a8"
      },
      "execution_count": null,
      "outputs": [
        {
          "output_type": "stream",
          "name": "stdout",
          "text": [
            "This book is a practical guide that covers the complete functionality of Vue.js. It provides detailed introductions to various aspects such as the basics of Vue.js, component system, Vue CLI, Vue development ecosystem, Vue Router, Vuex, and Vue Composition API. The author is the organizer of the Vue.js Taiwan community and has over ten years of frontend development experience. The aim of this book is to help readers quickly get started with Vue.js, avoid taking many detours, and appreciate the world of modern frontend development.\n"
          ]
        }
      ]
    },
    {
      "cell_type": "code",
      "source": [
        "prompt = f\"\"\"\n",
        "請將以下文字改寫成有故意有創意的版本:\n",
        "text: ```{summary}```\n",
        "\"\"\"\n",
        "\n",
        "response = get_completion([{ \"role\": \"user\", \"content\": prompt }], temperature=0.2)\n",
        "print(response)"
      ],
      "metadata": {
        "colab": {
          "base_uri": "https://localhost:8080/"
        },
        "id": "PyFKM7SoU-59",
        "outputId": "9218417c-6d37-4076-9e78-082e58b6c889"
      },
      "execution_count": null,
      "outputs": [
        {
          "output_type": "stream",
          "name": "stdout",
          "text": [
            "這本書就像是一本超強實戰指南，它不僅涵蓋了Vue.js的所有功能，還能讓你成為真正的Vue.js大師！從基礎入門到元件系統、Vue CLI、Vue開發生態圈、Vue Router、Vuex和Vue Composition API，這本書通通都有詳細介紹，讓你一次搞定！而且，這本書的作者可是Vue.js Taiwan社群的主辦人，他可是擁有超過十年的前端開發經驗喔！他的目標就是要幫助讀者快速上手Vue.js，讓你不再走冤枉路，直接進入現代前端開發的世界！這本書絕對是你成為前端大神的必備利器！\n"
          ]
        }
      ]
    },
    {
      "cell_type": "code",
      "source": [
        "prompt = f\"\"\"\n",
        "請將以下文字編排成HTML網頁:\n",
        "text: ```{text}```\n",
        "\"\"\"\n",
        "\n",
        "response = get_completion([{ \"role\": \"user\", \"content\": prompt }], temperature=0.2)\n",
        "print(response)"
      ],
      "metadata": {
        "colab": {
          "base_uri": "https://localhost:8080/"
        },
        "id": "bmxcXoNQVj-Z",
        "outputId": "78551431-8d9f-44fc-a2a5-c07eeb6f2635"
      },
      "execution_count": null,
      "outputs": [
        {
          "output_type": "stream",
          "name": "stdout",
          "text": [
            "<!DOCTYPE html>\n",
            "<html>\n",
            "<head>\n",
            "    <meta charset=\"UTF-8\">\n",
            "    <title>商品描述</title>\n",
            "</head>\n",
            "<body>\n",
            "    <h1>商品描述:</h1>\n",
            "    <p>從零開始！快速上手！網羅完整Vue.js功能的實戰指南</p>\n",
            "    <p>|Vue.js基礎入門|Vue.js元件系統|Vue單一元件檔與Vue CLI|Vue開發生態圈|Vue Router與前端路由管理|Vuex與共用狀態管理|Vue Composition API|</p>\n",
            "    <p>Vue.js不斷地成長，從早期只被定位在JavaScript的UI工具庫，到如今已經是個成熟且功能強大的漸進式框架。Vue.js 3底層核心由TypeScript所改寫，不僅效能更快、檔案更小，更重要是仍然可以使用我們所熟悉的JavaScript來進行開發。它的特性是短時間內可以快速上手，並且擁有豐富的開發生態環境系統以及蓬勃發展的社群。</p>\n",
            "    <p>作者將多年來在Vue.js的開發與教學心得記錄下來，除了比較Vue.js 2與新推出Vue.js 3版本的差異之外，也希望有助於讀者在學習、體驗Vue.js這套前端框架的時候，能夠少走許多岔路，領略現代前端開發的世界。</p>\n",
            "    <h2>本書精彩內容</h2>\n",
            "    <ul>\n",
            "        <li>從零開始介紹Vue.js的起源、基礎知識、指令、事件與生命週期等核心內容，帶領讀者快速入門。</li>\n",
            "        <li>元件系統是Vue.js的另一大核心特性，說明為什麼要使用元件、有什麼好處，以及說明元件系統開發時會遇到的問題。</li>\n",
            "        <li>介紹Vue的開發生態圈，並結合CLI/Webpack等相關工具，來為Vue.js從無到有進行專案建置、最佳化、打包部署等功能。</li>\n",
            "        <li>作為Vue.js開發生態圈的一環，Vue Router提供開發者透過前端路由來建立單頁式應用程式(SPA)的可能性。</li>\n",
            "        <li>Vue.js元件的狀態各自為政，當專案規模日漸擴大的時候，共用狀態與資料管理就顯得十分重要。</li>\n",
            "        <li>Composition API是Vue.js 3起新增的重要特性之一，說明最新的Composition API是什麼、如何使用、它解決了什麼問題？為什麼要使用它？以及在實際開發時，使用Composition API需要注意的各種細節。</li>\n",
            "    </ul>\n",
            "    <h2>作者簡介:</h2>\n",
            "    <p>許國政（Kuro Hsu）</p>\n",
            "    <p>Vue.js Taiwan社群主辦人，超過十年的前端\n"
          ]
        }
      ]
    },
    {
      "cell_type": "markdown",
      "source": [
        "## Expanding 擴寫\n",
        "\n",
        "將一個短內容擴寫成長文、做 brainstorming"
      ],
      "metadata": {
        "id": "5skzvU0WLKxq"
      }
    },
    {
      "cell_type": "code",
      "source": [
        "# 取自 https://www.explainthis.io/zh-hant/chatgpt\n",
        "prompt = f\"\"\"\n",
        "你現在是一名專業的內容寫手，草擬一篇網路遊戲相關的資訊性文章。文章應在 500 字以內，包括網路遊戲的重要性、各種類型及其優點。請務必引用相關統計數據、例子和來源支持你的觀點。\n",
        "\"\"\"\n",
        "\n",
        "response = get_completion([{ \"role\": \"user\", \"content\": prompt }], temperature=0.2)\n",
        "print(response)"
      ],
      "metadata": {
        "id": "7pSRv0hZLPGe",
        "colab": {
          "base_uri": "https://localhost:8080/"
        },
        "outputId": "daab2625-782b-4fda-81b5-2f93858ce0e6"
      },
      "execution_count": null,
      "outputs": [
        {
          "output_type": "stream",
          "name": "stdout",
          "text": [
            "網路遊戲的重要性及各種類型及其優點\n",
            "\n",
            "網路遊戲在現代社會中扮演著重要的角色，它不僅僅是一種娛樂方式，更是一種社交互動的平台。根據統計數據，全球網路遊戲市場在2019年達到了1520億美元的規模，預計到2025年將達到2930億美元。這顯示了網路遊戲對於現代社會的重要性。\n",
            "\n",
            "首先，網路遊戲提供了一個虛擬世界，讓玩家能夠逃離現實生活的壓力和煩惱。根據一項研究，超過70％的網路遊戲玩家表示，遊戲能夠幫助他們減輕壓力和放鬆身心。這種放鬆的效果有助於提高玩家的心理健康和幸福感。\n",
            "\n",
            "其次，網路遊戲也有助於促進社交互動。許多網路遊戲都提供了多人遊戲模式，讓玩家能夠與其他玩家一起遊玩。這種社交互動不僅僅是遊戲內的互動，還可以在現實生活中建立真實的友誼。根據一項研究，超過50％的網路遊戲玩家表示，他們在遊戲中結識了一些真實的朋友。\n",
            "\n",
            "此外，網路遊戲的種類繁多，滿足了不同玩家的需求和喜好。例如，角色扮演遊戲（RPG）提供了一個豐富的故事情節和角色發展，讓玩家能夠扮演自己喜歡的角色。射擊遊戲（FPS）則提供了刺激的戰鬥場景和多人對戰的機會。策略遊戲（SLG）則需要玩家思考和計劃，提高了玩家的智力和策略能力。\n",
            "\n",
            "最後，網路遊戲也為玩家提供了學習和發展的機會。許多遊戲具有教育性質，例如模擬遊戲（Simulation Games）可以讓玩家體驗不同的職業和生活場景，從中學習相關知識和技能。此外，網路遊戲還可以培養玩家的團隊合作和溝通能力，這些能力在現實生活中也非常重要。\n",
            "\n",
            "總結來說，網路遊戲在現代社會中扮演著重要的角色。它不僅僅是一種娛樂方式，更是一種社交互動的平台。網路遊戲能夠幫助玩家減輕壓力、放鬆身心，同時也促進了社交互動和友誼的建立。不同類\n"
          ]
        }
      ]
    },
    {
      "cell_type": "markdown",
      "source": [
        "若能給輸出的架構會更好，例如:"
      ],
      "metadata": {
        "id": "EfFs-LOJqJk9"
      }
    },
    {
      "cell_type": "code",
      "source": [
        "# 廣告架構出處: 刀法Digipont\n",
        "target = \"壓力非常大的上班族\"\n",
        "product = \"麥當勞有史以來最貴的螯龍蝦堡\"\n",
        "\n",
        "prompt = f\"\"\"\n",
        "\n",
        "你是一個獲獎無數的廣告創意大師，請根據以下資訊\n",
        "\n",
        "目標受眾: `{target}`\n",
        "產品: `{product}`\n",
        "\n",
        "寫出\n",
        "1. 產品特點: 一些具體特點，例如產品特殊的工藝或是功效，值得讓人注意的細節，可以從產生想法到生產製作到最後成品所經歷的各種環節思考，例如原料、工藝、技術、設計、包裝、成品特點等\n",
        "2. 用戶畫像: 清晰具象化的描述使用產品的用戶，大概是誰，長什麼樣子，喜歡什麼，包括社會屬性、生活屬性、心理屬性、行為屬性、興趣偏好等\n",
        "3. 使用場景: 是在什麼具體場景，誰在什麼情況下(時間和地點)，有什麼樣的需求\n",
        "4. 痛點: 目前市面上其他類似產品不滿意的地方，讓用戶痛苦的地方\n",
        "5. 爽點: 使用產品想要達到的理想狀態，用戶心理會覺得\"要是這樣就好了\"\n",
        "\n",
        "6. 用誇張的方式，放大使用產品時候的場景到極限場景，寫出一個創意小故事\n",
        "7. 用誇張的方式，放大使用產品時候的痛苦，或者如果不使用該產品會帶來的嚴重不良後果，寫出一個創意小故事，100字以內\n",
        "8. 用誇張的方式，放大使用產品時候的爽點，突出用完之後會有多麽爽，激發用戶慾望，寫出一個創意小故事，100字以內\n",
        "9. 用誇張的方式，放大產品特點，突出產品或品牌優勢，以一種強烈衝擊的表達方式進行誇張，對信息進行突出，寫出一個創意小故事，100字以內\n",
        "10. 根據產品特點，一般大眾會聯想到的東西或是標誌物會是什麼? 相似處可能是形狀、顏色、材質、氣味、功能或是logo。結合這個產品特點和東西，寫出一個創意小故事，100字以內\n",
        "11. 根據用戶畫像列出一個關鍵字A、根據場景痛點列出關鍵字B、產品產品特點列出關鍵字C，結合 A+B+C，，寫出一個創意小故事，100字以內\n",
        "\n",
        "\"\"\"\n",
        "\n",
        "result = get_completion([{\"role\": \"user\", \"content\": prompt }], temperature=0.7, model=\"gpt-3.5-turbo\", max_tokens=3000)\n"
      ],
      "metadata": {
        "id": "IEgTrhDRWff8"
      },
      "execution_count": null,
      "outputs": []
    },
    {
      "cell_type": "code",
      "source": [
        "print(result)"
      ],
      "metadata": {
        "id": "tbIbAaCgXYq_",
        "colab": {
          "base_uri": "https://localhost:8080/"
        },
        "outputId": "de29b43e-537e-43c4-8248-e7b828cb203d"
      },
      "execution_count": null,
      "outputs": [
        {
          "output_type": "stream",
          "name": "stdout",
          "text": [
            "1. 產品特點：麥當勞有史以來最貴的螯龍蝦堡以新鮮的螯龍蝦為主要原料，採用專業烹飪技術烹製而成。每一隻螯龍蝦都經過嚴格篩選，以確保品質的一致性。獨特的麵包配方和特殊的醬料結合，為消費者帶來無與倫比的口感和味道。產品包裝精美，每一個細節都經過精心設計，彰顯高品質和豪華感。\n",
            "\n",
            "2. 用戶畫像：這款螯龍蝦堡的目標受眾為壓力非常大的上班族。他們通常是都市中繁忙的白領一族，長期面臨工作壓力，缺乏時間和精力烹飪食物。他們追求高品質的生活，喜歡享受美食，但同時也需要快速和方便的解決方案。\n",
            "\n",
            "3. 使用場景：在忙碌的工作日中，上班族經常面臨時間緊迫和營養需求的難題。午餐時間時，他們通常只有短暫的休息時間，需要快速解決午餐需求。麥當勞的螯龍蝦堡成為了他們的首選，因為它能夠在短時間內提供美味和營養，讓他們在忙碌的工作中恢復活力。\n",
            "\n",
            "4. 痛點：目前市面上其他類似產品的痛點是質量參差不齊，無法確保食材的新鮮度和品質。此外，其他產品也缺乏設計感和豪華感，無法滿足上班族對品質和形象的追求。\n",
            "\n",
            "5. 爽點：使用麥當勞的螯龍蝦堡，上班族能夠在短暫的午餐時間中享受到高品質的美食，彷彿置身於高級餐廳般的享受。這種美味的享受能夠為他們帶來短暫的快樂和放鬆，讓他們重新燃起工作的熱情。\n",
            "\n",
            "6. 創意小故事：在一個高壓的辦公室環境中，一位年輕的上班族突然收到了一封郵件，告訴他有一份非常重要的報告需要在兩小時內完成。他感到壓力山大，焦慮不安。就在這個時候，他同事推薦了麥當勞的螯龍蝦堡。他迅速下樓買了一個，打開包裝，看到那美味的螯龍蝦堡，他一口咬下去，瞬間感受到了美食的滿足和放鬆，壓力瞬間消失，他重新燃起了工作的激情，順利完成了報告。\n",
            "\n",
            "7. 創意小故事：一位上班族因工作繁忙，忽略了午餐時間，肚子餓得咕嚕咕嚕作響。他無奈地決定去附近的餐廳吃飯，但是排隊的人山人海，耗費了大量的時間。最終，他只能買到一個隨便的便當，品質低劣，吃完後胃痛不已。如果他能夠選擇麥當勞的螯龍蝦堡，他可以在短時間內享受到高品質的美食，避免了排隊和買到劣質食物的痛苦。\n",
            "\n",
            "8. 創意小故事：一位上班族在繁忙的工作後，感到精疲力竭，壓力沉重。他走進麥當勞，點了一個螯龍蝦堡，當他咬下去時，美味的螯龍蝦和麵包在口中融化，立刻帶來了舒適和愉悅的感覺。他感受到身心的放鬆，心情變得愉快起來，重新獲得了活力。\n",
            "\n",
            "9. 創意小故事：一個大城市的上班族經歷了一天疲憊的工作後，他渴望享受一頓豪華的晚餐。他選擇了麥當勞的螯龍蝦堡，一個充滿豪華感的產品。當他打開包裝，看到那金黃色的麵包和鮮嫩的螯龍蝦時，他彷彿置身於一個高級餐廳，享受著美食的奢華。他感受到了品味和品質的差異，對麥當勞的螯龍蝦堡讚不絕口。\n",
            "\n",
            "10. 產品特點聯想：根據產品特點，一般大眾可能會聯想到的是豪華餐廳。這款螯龍蝦堡的外形和味道讓人聯想到高級餐廳中的海鮮料理，結合麥當勞的品牌形象，呈現出一種豪華和品質的感覺。\n",
            "\n",
            "11. 關鍵字組合：用戶畫像(A)：壓力非常大的上班族；使用場景(B)：午餐時間，在忙碌的工作中；產品特點(C)：高品質的螯龍蝦堡。\n",
            "故事：一位壓力非常大的上班族在繁忙的工作日中，午餐時間來臨，他感到疲憊和飢餓，需要快速解決午餐需求。他決定選擇麥當勞的螯龍蝦堡，一個高品質的美食選擇。當他咬下去時，鮮嫩的螯龍蝦和特殊的醬料在口中融化，他感受到了短暫的放鬆和享受，重新燃起了工作的激情，壓力一掃而空。\n"
          ]
        }
      ]
    },
    {
      "cell_type": "markdown",
      "source": [
        "## 補充: Google Generative AI 的 Design text prompts\n",
        "\n",
        "https://cloud.google.com/vertex-ai/docs/generative-ai/text/text-prompts\n",
        "\n",
        "列舉了一些使用情境和 Prompt 範例:\n",
        "\n",
        "* 分類 Classification prompts\n",
        "  * Fraud detection: 財務交易是否有詐騙\n",
        "  * Spam filtering: 辨識 email 是否 spam\n",
        "  * Sentiment analysis: 判斷文本情緒\n",
        "  * Content moderation: 內容審核是否有害或釣魚\n",
        "* 摘要 Summarization prompts\n",
        "  * Summarize text: 摘要新聞、研究報告、法律文案、財務文件、技術文件、客戶回饋\n",
        "  * Content generation: 產生文章、部落格、產品描述\n",
        "* 萃取 Extraction prompts\n",
        "  * Named entity recognition (NER): 擷取出關鍵字，例如人名、地點、公司組織、日期等\n",
        "  * Relation extraction: 擷取出文本中的物件關係，例如人物之間的家庭關係\n",
        "  * Event extraction: 擷取出文本中的事件，例如專案里程碑、產品發布日期\n",
        "  * Question answering: 從文本中擷取出資訊來回答問題"
      ],
      "metadata": {
        "id": "TkgUmkPe1fV2"
      }
    },
    {
      "cell_type": "markdown",
      "source": [
        "## 補充: Anthropic 的 Guide: USE CASES\n",
        "\n",
        "https://docs.anthropic.com/claude/docs/content-generation\n"
      ],
      "metadata": {
        "id": "jQoU2raAfKMa"
      }
    },
    {
      "cell_type": "markdown",
      "source": [
        "## 補充: 窮人版 LLM Benchmarks\n",
        "https://benchmarks.llmonitor.com/prompts\n",
        "\n",
        "提供了一些 LLM 簡易評測方向和 prompts\n",
        "\n",
        "1. knowledge 知識類\n",
        "2. code 程式碼產生\n",
        "3. instruct 任務指示\n",
        "4. creativity 創意類\n",
        "5. reflexion 推理思考類"
      ],
      "metadata": {
        "id": "K5H5uoHvuSYW"
      }
    },
    {
      "cell_type": "code",
      "source": [],
      "metadata": {
        "id": "ib9LLPbhuW-J"
      },
      "execution_count": null,
      "outputs": []
    }
  ]
}